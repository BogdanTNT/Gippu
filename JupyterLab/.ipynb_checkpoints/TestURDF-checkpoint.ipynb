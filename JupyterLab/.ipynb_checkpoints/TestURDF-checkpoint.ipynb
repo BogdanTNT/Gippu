{
 "cells": [
  {
   "cell_type": "code",
   "execution_count": null,
   "id": "165ee23a-7f76-4ff7-bb9f-e1c73111352d",
   "metadata": {},
   "outputs": [],
   "source": [
    "import ikpy.chain\n",
    "import ikpy.utils.plot as plot_utils\n",
    "\n",
    "import numpy as np\n",
    "import time\n",
    "import math\n",
    "\n",
    "import ipywidgets as widgets\n",
    "import serial\n",
    "\n",
    "my_chain = ikpy.chain.Chain.from_urdf_file(\"Robot/robo.urdf\",active_links_mask=[False, True, True, True, True, True, True])\n",
    "\n",
    "target_position = [0.4, 0.4, 0.4]\n",
    "\n",
    "target_orientation = [0, 0, 0]\n",
    "\n",
    "ik = my_chain.inverse_kinematics(target_position)\n",
    "# ik = my_chain.inverse_kinematics(target_position, target_orientation, orientation_mode=\"Y\")\n",
    "print(ik)\n",
    "print(\"The angles of each joints are : \", list(map(lambda r: int(math.degrees(r)), ik.tolist()))[1:])\n",
    "# print(\"The angles of each joints are : \", list(map(lambda r:math.degrees(r),ik.tolist())))\n",
    "\n",
    "computed_position = my_chain.forward_kinematics(ik)\n",
    "print(\"Computed position: %s, original position : %s\" % (computed_position[:3, 3], target_position))\n",
    "print(\"Computed position (readable) : %s\" % [ '%.2f' % elem for elem in computed_position[:3, 3] ])\n",
    "\n",
    "\n",
    "# %matplotlib widget\n",
    "#%matplotlib widget\n",
    "import matplotlib.pyplot as plt\n",
    "fig, ax = plot_utils.init_3d_figure()\n",
    "fig.set_figheight(9)  \n",
    "fig.set_figwidth(13)  \n",
    "my_chain.plot(ik, ax, target=target_position)\n",
    "plt.xlim(-0.5, 0.5)\n",
    "plt.ylim(-0.5, 0.5)\n",
    "ax.set_zlim(0, 0.6)\n",
    "plt.ion()\n",
    "\n",
    "# time.sleep(9999999)\n",
    "\n",
    "def doIK():\n",
    "    global ik\n",
    "    old_position= ik.copy()\n",
    "    ik = my_chain.inverse_kinematics(target_position, target_orientation, orientation_mode=\"Z\", initial_position=old_position)\n",
    "\n",
    "def move(x,y,z):\n",
    "    global target_position\n",
    "    target_position = [x,y,z]\n",
    "    doIK()\n",
    "\n",
    "    sendCommand(ik[1].item(),ik[2].item(),ik[3].item(),ik[4].item(),ik[5].item(),ik[6].item(),1)"
   ]
  }
 ],
 "metadata": {
  "kernelspec": {
   "display_name": "Python 3 (ipykernel)",
   "language": "python",
   "name": "python3"
  },
  "language_info": {
   "codemirror_mode": {
    "name": "ipython",
    "version": 3
   },
   "file_extension": ".py",
   "mimetype": "text/x-python",
   "name": "python",
   "nbconvert_exporter": "python",
   "pygments_lexer": "ipython3",
   "version": "3.11.9"
  }
 },
 "nbformat": 4,
 "nbformat_minor": 5
}
